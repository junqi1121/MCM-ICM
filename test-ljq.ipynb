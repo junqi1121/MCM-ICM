{
 "cells": [
  {
   "cell_type": "markdown",
   "metadata": {},
   "source": [
    "# 库导入"
   ]
  },
  {
   "cell_type": "code",
   "execution_count": 1,
   "metadata": {},
   "outputs": [],
   "source": [
    "import numpy as np\n",
    "import pandas as pd\n"
   ]
  },
  {
   "cell_type": "markdown",
   "metadata": {},
   "source": [
    "# 数据导入"
   ]
  },
  {
   "cell_type": "code",
   "execution_count": 3,
   "metadata": {},
   "outputs": [
    {
     "data": {
      "text/html": [
       "<div>\n",
       "<style scoped>\n",
       "    .dataframe tbody tr th:only-of-type {\n",
       "        vertical-align: middle;\n",
       "    }\n",
       "\n",
       "    .dataframe tbody tr th {\n",
       "        vertical-align: top;\n",
       "    }\n",
       "\n",
       "    .dataframe thead th {\n",
       "        text-align: right;\n",
       "    }\n",
       "</style>\n",
       "<table border=\"1\" class=\"dataframe\">\n",
       "  <thead>\n",
       "    <tr style=\"text-align: right;\">\n",
       "      <th></th>\n",
       "      <th>match_id</th>\n",
       "      <th>player1</th>\n",
       "      <th>player2</th>\n",
       "      <th>elapsed_time</th>\n",
       "      <th>set_no</th>\n",
       "      <th>game_no</th>\n",
       "      <th>point_no</th>\n",
       "      <th>p1_sets</th>\n",
       "      <th>p2_sets</th>\n",
       "      <th>p1_games</th>\n",
       "      <th>...</th>\n",
       "      <th>p2_break_pt_won</th>\n",
       "      <th>p1_break_pt_missed</th>\n",
       "      <th>p2_break_pt_missed</th>\n",
       "      <th>p1_distance_run</th>\n",
       "      <th>p2_distance_run</th>\n",
       "      <th>rally_count</th>\n",
       "      <th>speed_mph</th>\n",
       "      <th>serve_width</th>\n",
       "      <th>serve_depth</th>\n",
       "      <th>return_depth</th>\n",
       "    </tr>\n",
       "  </thead>\n",
       "  <tbody>\n",
       "    <tr>\n",
       "      <th>0</th>\n",
       "      <td>2023-wimbledon-1301</td>\n",
       "      <td>Carlos Alcaraz</td>\n",
       "      <td>Nicolas Jarry</td>\n",
       "      <td>00:00:00</td>\n",
       "      <td>1</td>\n",
       "      <td>1</td>\n",
       "      <td>1</td>\n",
       "      <td>0</td>\n",
       "      <td>0</td>\n",
       "      <td>0</td>\n",
       "      <td>...</td>\n",
       "      <td>0</td>\n",
       "      <td>0</td>\n",
       "      <td>0</td>\n",
       "      <td>6.000</td>\n",
       "      <td>7.840</td>\n",
       "      <td>2</td>\n",
       "      <td>95.0</td>\n",
       "      <td>BC</td>\n",
       "      <td>NCTL</td>\n",
       "      <td>ND</td>\n",
       "    </tr>\n",
       "    <tr>\n",
       "      <th>1</th>\n",
       "      <td>2023-wimbledon-1301</td>\n",
       "      <td>Carlos Alcaraz</td>\n",
       "      <td>Nicolas Jarry</td>\n",
       "      <td>00:00:38</td>\n",
       "      <td>1</td>\n",
       "      <td>1</td>\n",
       "      <td>2</td>\n",
       "      <td>0</td>\n",
       "      <td>0</td>\n",
       "      <td>0</td>\n",
       "      <td>...</td>\n",
       "      <td>0</td>\n",
       "      <td>0</td>\n",
       "      <td>0</td>\n",
       "      <td>5.253</td>\n",
       "      <td>7.094</td>\n",
       "      <td>1</td>\n",
       "      <td>118.0</td>\n",
       "      <td>B</td>\n",
       "      <td>CTL</td>\n",
       "      <td>ND</td>\n",
       "    </tr>\n",
       "    <tr>\n",
       "      <th>2</th>\n",
       "      <td>2023-wimbledon-1301</td>\n",
       "      <td>Carlos Alcaraz</td>\n",
       "      <td>Nicolas Jarry</td>\n",
       "      <td>00:01:01</td>\n",
       "      <td>1</td>\n",
       "      <td>1</td>\n",
       "      <td>3</td>\n",
       "      <td>0</td>\n",
       "      <td>0</td>\n",
       "      <td>0</td>\n",
       "      <td>...</td>\n",
       "      <td>0</td>\n",
       "      <td>0</td>\n",
       "      <td>0</td>\n",
       "      <td>13.800</td>\n",
       "      <td>19.808</td>\n",
       "      <td>4</td>\n",
       "      <td>120.0</td>\n",
       "      <td>B</td>\n",
       "      <td>NCTL</td>\n",
       "      <td>D</td>\n",
       "    </tr>\n",
       "    <tr>\n",
       "      <th>3</th>\n",
       "      <td>2023-wimbledon-1301</td>\n",
       "      <td>Carlos Alcaraz</td>\n",
       "      <td>Nicolas Jarry</td>\n",
       "      <td>00:01:31</td>\n",
       "      <td>1</td>\n",
       "      <td>1</td>\n",
       "      <td>4</td>\n",
       "      <td>0</td>\n",
       "      <td>0</td>\n",
       "      <td>0</td>\n",
       "      <td>...</td>\n",
       "      <td>0</td>\n",
       "      <td>0</td>\n",
       "      <td>0</td>\n",
       "      <td>51.108</td>\n",
       "      <td>75.631</td>\n",
       "      <td>13</td>\n",
       "      <td>130.0</td>\n",
       "      <td>BW</td>\n",
       "      <td>CTL</td>\n",
       "      <td>D</td>\n",
       "    </tr>\n",
       "    <tr>\n",
       "      <th>4</th>\n",
       "      <td>2023-wimbledon-1301</td>\n",
       "      <td>Carlos Alcaraz</td>\n",
       "      <td>Nicolas Jarry</td>\n",
       "      <td>00:02:21</td>\n",
       "      <td>1</td>\n",
       "      <td>1</td>\n",
       "      <td>5</td>\n",
       "      <td>0</td>\n",
       "      <td>0</td>\n",
       "      <td>0</td>\n",
       "      <td>...</td>\n",
       "      <td>0</td>\n",
       "      <td>0</td>\n",
       "      <td>0</td>\n",
       "      <td>0.649</td>\n",
       "      <td>0.813</td>\n",
       "      <td>1</td>\n",
       "      <td>112.0</td>\n",
       "      <td>W</td>\n",
       "      <td>NCTL</td>\n",
       "      <td>NaN</td>\n",
       "    </tr>\n",
       "  </tbody>\n",
       "</table>\n",
       "<p>5 rows × 46 columns</p>\n",
       "</div>"
      ],
      "text/plain": [
       "              match_id         player1        player2 elapsed_time  set_no   \n",
       "0  2023-wimbledon-1301  Carlos Alcaraz  Nicolas Jarry     00:00:00       1  \\\n",
       "1  2023-wimbledon-1301  Carlos Alcaraz  Nicolas Jarry     00:00:38       1   \n",
       "2  2023-wimbledon-1301  Carlos Alcaraz  Nicolas Jarry     00:01:01       1   \n",
       "3  2023-wimbledon-1301  Carlos Alcaraz  Nicolas Jarry     00:01:31       1   \n",
       "4  2023-wimbledon-1301  Carlos Alcaraz  Nicolas Jarry     00:02:21       1   \n",
       "\n",
       "   game_no  point_no  p1_sets  p2_sets  p1_games  ...  p2_break_pt_won   \n",
       "0        1         1        0        0         0  ...                0  \\\n",
       "1        1         2        0        0         0  ...                0   \n",
       "2        1         3        0        0         0  ...                0   \n",
       "3        1         4        0        0         0  ...                0   \n",
       "4        1         5        0        0         0  ...                0   \n",
       "\n",
       "  p1_break_pt_missed p2_break_pt_missed  p1_distance_run  p2_distance_run   \n",
       "0                  0                  0            6.000            7.840  \\\n",
       "1                  0                  0            5.253            7.094   \n",
       "2                  0                  0           13.800           19.808   \n",
       "3                  0                  0           51.108           75.631   \n",
       "4                  0                  0            0.649            0.813   \n",
       "\n",
       "   rally_count  speed_mph  serve_width  serve_depth  return_depth  \n",
       "0            2       95.0           BC         NCTL            ND  \n",
       "1            1      118.0            B          CTL            ND  \n",
       "2            4      120.0            B         NCTL             D  \n",
       "3           13      130.0           BW          CTL             D  \n",
       "4            1      112.0            W         NCTL           NaN  \n",
       "\n",
       "[5 rows x 46 columns]"
      ]
     },
     "execution_count": 3,
     "metadata": {},
     "output_type": "execute_result"
    }
   ],
   "source": [
    "sheet = pd.read_csv('data.csv')\n",
    "data = sheet.iloc[:, :].values\n",
    "\n",
    "sheet.head()"
   ]
  },
  {
   "cell_type": "code",
   "execution_count": 4,
   "metadata": {},
   "outputs": [
    {
     "name": "stdout",
     "output_type": "stream",
     "text": [
      "[['2023-wimbledon-1301' 'Carlos Alcaraz' 'Nicolas Jarry' ... 'BC' 'NCTL'\n",
      "  'ND']\n",
      " ['2023-wimbledon-1301' 'Carlos Alcaraz' 'Nicolas Jarry' ... 'B' 'CTL'\n",
      "  'ND']\n",
      " ['2023-wimbledon-1301' 'Carlos Alcaraz' 'Nicolas Jarry' ... 'B' 'NCTL'\n",
      "  'D']\n",
      " ...\n",
      " ['2023-wimbledon-1701' 'Carlos Alcaraz' 'Novak Djokovic' ... 'W' 'NCTL'\n",
      "  'D']\n",
      " ['2023-wimbledon-1701' 'Carlos Alcaraz' 'Novak Djokovic' ... 'C' 'NCTL'\n",
      "  'D']\n",
      " ['2023-wimbledon-1701' 'Carlos Alcaraz' 'Novak Djokovic' ... 'BW' 'NCTL'\n",
      "  'ND']]\n"
     ]
    }
   ],
   "source": [
    "print(data)"
   ]
  },
  {
   "cell_type": "code",
   "execution_count": 5,
   "metadata": {},
   "outputs": [
    {
     "name": "stdout",
     "output_type": "stream",
     "text": [
      "[['2023-wimbledon-1701' 'Carlos Alcaraz' 'Novak Djokovic' ... 'W' 'CTL'\n",
      "  'D']\n",
      " ['2023-wimbledon-1701' 'Carlos Alcaraz' 'Novak Djokovic' ... 'BW' 'NCTL'\n",
      "  'ND']\n",
      " ['2023-wimbledon-1701' 'Carlos Alcaraz' 'Novak Djokovic' ... 'BW' 'NCTL'\n",
      "  'ND']\n",
      " ...\n",
      " ['2023-wimbledon-1701' 'Carlos Alcaraz' 'Novak Djokovic' ... 'W' 'NCTL'\n",
      "  'D']\n",
      " ['2023-wimbledon-1701' 'Carlos Alcaraz' 'Novak Djokovic' ... 'C' 'NCTL'\n",
      "  'D']\n",
      " ['2023-wimbledon-1701' 'Carlos Alcaraz' 'Novak Djokovic' ... 'BW' 'NCTL'\n",
      "  'ND']]\n"
     ]
    }
   ],
   "source": [
    "final_match = []\n",
    "\n",
    "for i in data:\n",
    "    if i[0] == '2023-wimbledon-1701':\n",
    "        final_match.append(i)\n",
    "\n",
    "final_match = np.array(final_match)\n",
    "print(final_match)"
   ]
  },
  {
   "cell_type": "code",
   "execution_count": 6,
   "metadata": {},
   "outputs": [
    {
     "name": "stdout",
     "output_type": "stream",
     "text": [
      "Index(['match_id', 'player1', 'player2', 'elapsed_time', 'set_no', 'game_no',\n",
      "       'point_no', 'p1_sets', 'p2_sets', 'p1_games', 'p2_games', 'p1_score',\n",
      "       'p2_score', 'server', 'serve_no', 'point_victor', 'p1_points_won',\n",
      "       'p2_points_won', 'game_victor', 'set_victor', 'p1_ace', 'p2_ace',\n",
      "       'p1_winner', 'p2_winner', 'winner_shot_type', 'p1_double_fault',\n",
      "       'p2_double_fault', 'p1_unf_err', 'p2_unf_err', 'p1_net_pt', 'p2_net_pt',\n",
      "       'p1_net_pt_won', 'p2_net_pt_won', 'p1_break_pt', 'p2_break_pt',\n",
      "       'p1_break_pt_won', 'p2_break_pt_won', 'p1_break_pt_missed',\n",
      "       'p2_break_pt_missed', 'p1_distance_run', 'p2_distance_run',\n",
      "       'rally_count', 'speed_mph', 'serve_width', 'serve_depth',\n",
      "       'return_depth'],\n",
      "      dtype='object')\n"
     ]
    }
   ],
   "source": [
    "# 打印出所有的列名\n",
    "print(sheet.columns)"
   ]
  },
  {
   "cell_type": "markdown",
   "metadata": {},
   "source": [
    "## 双误失分\n",
    "double_fault_1 : { n : m }     代表 Carlos Alcaraz 截止第n个point，双误失分m次\n",
    "\n",
    "double_fault_2 : { n : m }     代表 Novak Djokovic 截止第n个point，双误失分m次"
   ]
  },
  {
   "cell_type": "markdown",
   "metadata": {},
   "source": []
  }
 ],
 "metadata": {
  "kernelspec": {
   "display_name": "Python 3",
   "language": "python",
   "name": "python3"
  },
  "language_info": {
   "codemirror_mode": {
    "name": "ipython",
    "version": 3
   },
   "file_extension": ".py",
   "mimetype": "text/x-python",
   "name": "python",
   "nbconvert_exporter": "python",
   "pygments_lexer": "ipython3",
   "version": "3.8.3"
  }
 },
 "nbformat": 4,
 "nbformat_minor": 2
}
