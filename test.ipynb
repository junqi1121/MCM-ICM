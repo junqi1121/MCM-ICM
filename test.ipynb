{
 "cells": [
  {
   "cell_type": "markdown",
   "metadata": {},
   "source": [
    "# 库导入"
   ]
  },
  {
   "cell_type": "code",
   "execution_count": 1,
   "metadata": {},
   "outputs": [],
   "source": [
    "import numpy as np\n",
    "import pandas as pd\n"
   ]
  },
  {
   "cell_type": "markdown",
   "metadata": {},
   "source": [
    "# 数据导入"
   ]
  },
  {
   "cell_type": "code",
   "execution_count": 2,
   "metadata": {},
   "outputs": [
    {
     "data": {
      "text/html": [
       "<div>\n",
       "<style scoped>\n",
       "    .dataframe tbody tr th:only-of-type {\n",
       "        vertical-align: middle;\n",
       "    }\n",
       "\n",
       "    .dataframe tbody tr th {\n",
       "        vertical-align: top;\n",
       "    }\n",
       "\n",
       "    .dataframe thead th {\n",
       "        text-align: right;\n",
       "    }\n",
       "</style>\n",
       "<table border=\"1\" class=\"dataframe\">\n",
       "  <thead>\n",
       "    <tr style=\"text-align: right;\">\n",
       "      <th></th>\n",
       "      <th>match_id</th>\n",
       "      <th>player1</th>\n",
       "      <th>player2</th>\n",
       "      <th>elapsed_time</th>\n",
       "      <th>set_no</th>\n",
       "      <th>game_no</th>\n",
       "      <th>point_no</th>\n",
       "      <th>p1_sets</th>\n",
       "      <th>p2_sets</th>\n",
       "      <th>p1_games</th>\n",
       "      <th>...</th>\n",
       "      <th>p2_break_pt_won</th>\n",
       "      <th>p1_break_pt_missed</th>\n",
       "      <th>p2_break_pt_missed</th>\n",
       "      <th>p1_distance_run</th>\n",
       "      <th>p2_distance_run</th>\n",
       "      <th>rally_count</th>\n",
       "      <th>speed_mph</th>\n",
       "      <th>serve_width</th>\n",
       "      <th>serve_depth</th>\n",
       "      <th>return_depth</th>\n",
       "    </tr>\n",
       "  </thead>\n",
       "  <tbody>\n",
       "    <tr>\n",
       "      <th>0</th>\n",
       "      <td>2023-wimbledon-1301</td>\n",
       "      <td>Carlos Alcaraz</td>\n",
       "      <td>Nicolas Jarry</td>\n",
       "      <td>00:00:00</td>\n",
       "      <td>1</td>\n",
       "      <td>1</td>\n",
       "      <td>1</td>\n",
       "      <td>0</td>\n",
       "      <td>0</td>\n",
       "      <td>0</td>\n",
       "      <td>...</td>\n",
       "      <td>0</td>\n",
       "      <td>0</td>\n",
       "      <td>0</td>\n",
       "      <td>6.000</td>\n",
       "      <td>7.840</td>\n",
       "      <td>2</td>\n",
       "      <td>95.0</td>\n",
       "      <td>BC</td>\n",
       "      <td>NCTL</td>\n",
       "      <td>ND</td>\n",
       "    </tr>\n",
       "    <tr>\n",
       "      <th>1</th>\n",
       "      <td>2023-wimbledon-1301</td>\n",
       "      <td>Carlos Alcaraz</td>\n",
       "      <td>Nicolas Jarry</td>\n",
       "      <td>00:00:38</td>\n",
       "      <td>1</td>\n",
       "      <td>1</td>\n",
       "      <td>2</td>\n",
       "      <td>0</td>\n",
       "      <td>0</td>\n",
       "      <td>0</td>\n",
       "      <td>...</td>\n",
       "      <td>0</td>\n",
       "      <td>0</td>\n",
       "      <td>0</td>\n",
       "      <td>5.253</td>\n",
       "      <td>7.094</td>\n",
       "      <td>1</td>\n",
       "      <td>118.0</td>\n",
       "      <td>B</td>\n",
       "      <td>CTL</td>\n",
       "      <td>ND</td>\n",
       "    </tr>\n",
       "    <tr>\n",
       "      <th>2</th>\n",
       "      <td>2023-wimbledon-1301</td>\n",
       "      <td>Carlos Alcaraz</td>\n",
       "      <td>Nicolas Jarry</td>\n",
       "      <td>00:01:01</td>\n",
       "      <td>1</td>\n",
       "      <td>1</td>\n",
       "      <td>3</td>\n",
       "      <td>0</td>\n",
       "      <td>0</td>\n",
       "      <td>0</td>\n",
       "      <td>...</td>\n",
       "      <td>0</td>\n",
       "      <td>0</td>\n",
       "      <td>0</td>\n",
       "      <td>13.800</td>\n",
       "      <td>19.808</td>\n",
       "      <td>4</td>\n",
       "      <td>120.0</td>\n",
       "      <td>B</td>\n",
       "      <td>NCTL</td>\n",
       "      <td>D</td>\n",
       "    </tr>\n",
       "    <tr>\n",
       "      <th>3</th>\n",
       "      <td>2023-wimbledon-1301</td>\n",
       "      <td>Carlos Alcaraz</td>\n",
       "      <td>Nicolas Jarry</td>\n",
       "      <td>00:01:31</td>\n",
       "      <td>1</td>\n",
       "      <td>1</td>\n",
       "      <td>4</td>\n",
       "      <td>0</td>\n",
       "      <td>0</td>\n",
       "      <td>0</td>\n",
       "      <td>...</td>\n",
       "      <td>0</td>\n",
       "      <td>0</td>\n",
       "      <td>0</td>\n",
       "      <td>51.108</td>\n",
       "      <td>75.631</td>\n",
       "      <td>13</td>\n",
       "      <td>130.0</td>\n",
       "      <td>BW</td>\n",
       "      <td>CTL</td>\n",
       "      <td>D</td>\n",
       "    </tr>\n",
       "    <tr>\n",
       "      <th>4</th>\n",
       "      <td>2023-wimbledon-1301</td>\n",
       "      <td>Carlos Alcaraz</td>\n",
       "      <td>Nicolas Jarry</td>\n",
       "      <td>00:02:21</td>\n",
       "      <td>1</td>\n",
       "      <td>1</td>\n",
       "      <td>5</td>\n",
       "      <td>0</td>\n",
       "      <td>0</td>\n",
       "      <td>0</td>\n",
       "      <td>...</td>\n",
       "      <td>0</td>\n",
       "      <td>0</td>\n",
       "      <td>0</td>\n",
       "      <td>0.649</td>\n",
       "      <td>0.813</td>\n",
       "      <td>1</td>\n",
       "      <td>112.0</td>\n",
       "      <td>W</td>\n",
       "      <td>NCTL</td>\n",
       "      <td>NaN</td>\n",
       "    </tr>\n",
       "  </tbody>\n",
       "</table>\n",
       "<p>5 rows × 46 columns</p>\n",
       "</div>"
      ],
      "text/plain": [
       "              match_id         player1        player2 elapsed_time  set_no  \\\n",
       "0  2023-wimbledon-1301  Carlos Alcaraz  Nicolas Jarry     00:00:00       1   \n",
       "1  2023-wimbledon-1301  Carlos Alcaraz  Nicolas Jarry     00:00:38       1   \n",
       "2  2023-wimbledon-1301  Carlos Alcaraz  Nicolas Jarry     00:01:01       1   \n",
       "3  2023-wimbledon-1301  Carlos Alcaraz  Nicolas Jarry     00:01:31       1   \n",
       "4  2023-wimbledon-1301  Carlos Alcaraz  Nicolas Jarry     00:02:21       1   \n",
       "\n",
       "   game_no  point_no  p1_sets  p2_sets  p1_games  ...  p2_break_pt_won  \\\n",
       "0        1         1        0        0         0  ...                0   \n",
       "1        1         2        0        0         0  ...                0   \n",
       "2        1         3        0        0         0  ...                0   \n",
       "3        1         4        0        0         0  ...                0   \n",
       "4        1         5        0        0         0  ...                0   \n",
       "\n",
       "  p1_break_pt_missed p2_break_pt_missed  p1_distance_run  p2_distance_run  \\\n",
       "0                  0                  0            6.000            7.840   \n",
       "1                  0                  0            5.253            7.094   \n",
       "2                  0                  0           13.800           19.808   \n",
       "3                  0                  0           51.108           75.631   \n",
       "4                  0                  0            0.649            0.813   \n",
       "\n",
       "   rally_count  speed_mph  serve_width  serve_depth  return_depth  \n",
       "0            2       95.0           BC         NCTL            ND  \n",
       "1            1      118.0            B          CTL            ND  \n",
       "2            4      120.0            B         NCTL             D  \n",
       "3           13      130.0           BW          CTL             D  \n",
       "4            1      112.0            W         NCTL           NaN  \n",
       "\n",
       "[5 rows x 46 columns]"
      ]
     },
     "execution_count": 2,
     "metadata": {},
     "output_type": "execute_result"
    }
   ],
   "source": [
    "sheet = pd.read_csv('data.csv')\n",
    "data = sheet.iloc[:, :].values\n",
    "\n",
    "sheet.head()"
   ]
  },
  {
   "cell_type": "code",
   "execution_count": 3,
   "metadata": {},
   "outputs": [
    {
     "name": "stdout",
     "output_type": "stream",
     "text": [
      "[['2023-wimbledon-1301' 'Carlos Alcaraz' 'Nicolas Jarry' ... 'BC' 'NCTL'\n",
      "  'ND']\n",
      " ['2023-wimbledon-1301' 'Carlos Alcaraz' 'Nicolas Jarry' ... 'B' 'CTL'\n",
      "  'ND']\n",
      " ['2023-wimbledon-1301' 'Carlos Alcaraz' 'Nicolas Jarry' ... 'B' 'NCTL'\n",
      "  'D']\n",
      " ...\n",
      " ['2023-wimbledon-1701' 'Carlos Alcaraz' 'Novak Djokovic' ... 'W' 'NCTL'\n",
      "  'D']\n",
      " ['2023-wimbledon-1701' 'Carlos Alcaraz' 'Novak Djokovic' ... 'C' 'NCTL'\n",
      "  'D']\n",
      " ['2023-wimbledon-1701' 'Carlos Alcaraz' 'Novak Djokovic' ... 'BW' 'NCTL'\n",
      "  'ND']]\n"
     ]
    }
   ],
   "source": [
    "print(data)"
   ]
  },
  {
   "cell_type": "code",
   "execution_count": 4,
   "metadata": {},
   "outputs": [
    {
     "name": "stdout",
     "output_type": "stream",
     "text": [
      "[['2023-wimbledon-1701' 'Carlos Alcaraz' 'Novak Djokovic' ... 'W' 'CTL'\n",
      "  'D']\n",
      " ['2023-wimbledon-1701' 'Carlos Alcaraz' 'Novak Djokovic' ... 'BW' 'NCTL'\n",
      "  'ND']\n",
      " ['2023-wimbledon-1701' 'Carlos Alcaraz' 'Novak Djokovic' ... 'BW' 'NCTL'\n",
      "  'ND']\n",
      " ...\n",
      " ['2023-wimbledon-1701' 'Carlos Alcaraz' 'Novak Djokovic' ... 'W' 'NCTL'\n",
      "  'D']\n",
      " ['2023-wimbledon-1701' 'Carlos Alcaraz' 'Novak Djokovic' ... 'C' 'NCTL'\n",
      "  'D']\n",
      " ['2023-wimbledon-1701' 'Carlos Alcaraz' 'Novak Djokovic' ... 'BW' 'NCTL'\n",
      "  'ND']]\n"
     ]
    }
   ],
   "source": [
    "final_match = []\n",
    "\n",
    "for i in data:\n",
    "    if i[0] == '2023-wimbledon-1701':\n",
    "        final_match.append(i)\n",
    "\n",
    "final_match = np.array(final_match)\n",
    "print(final_match)"
   ]
  },
  {
   "cell_type": "code",
   "execution_count": 5,
   "metadata": {},
   "outputs": [
    {
     "name": "stdout",
     "output_type": "stream",
     "text": [
      "{'match_id': 0, 'player1': 1, 'player2': 2, 'elapsed_time': 3, 'set_no': 4, 'game_no': 5, 'point_no': 6, 'p1_sets': 7, 'p2_sets': 8, 'p1_games': 9, 'p2_games': 10, 'p1_score': 11, 'p2_score': 12, 'server': 13, 'serve_no': 14, 'point_victor': 15, 'p1_points_won': 16, 'p2_points_won': 17, 'game_victor': 18, 'set_victor': 19, 'p1_ace': 20, 'p2_ace': 21, 'p1_winner': 22, 'p2_winner': 23, 'winner_shot_type': 24, 'p1_double_fault': 25, 'p2_double_fault': 26, 'p1_unf_err': 27, 'p2_unf_err': 28, 'p1_net_pt': 29, 'p2_net_pt': 30, 'p1_net_pt_won': 31, 'p2_net_pt_won': 32, 'p1_break_pt': 33, 'p2_break_pt': 34, 'p1_break_pt_won': 35, 'p2_break_pt_won': 36, 'p1_break_pt_missed': 37, 'p2_break_pt_missed': 38, 'p1_distance_run': 39, 'p2_distance_run': 40, 'rally_count': 41, 'speed_mph': 42, 'serve_width': 43, 'serve_depth': 44, 'return_depth': 45}\n"
     ]
    }
   ],
   "source": [
    "# 打印出所有的列名\n",
    "category = dict()\n",
    "for i in range(len(sheet.columns)):\n",
    "    category[sheet.columns[i]] = i\n",
    "print(category)"
   ]
  },
  {
   "cell_type": "code",
   "execution_count": 6,
   "metadata": {},
   "outputs": [],
   "source": [
    "one_serve_win_1,         one_serve_win_2       = dict(), dict()\n",
    "one_serve_back_1,        one_serve_back_2      = dict(), dict()\n",
    "one_serve_success_1,     one_serve_success_2   = dict(), dict()\n",
    "two_serve_win_1,         two_serve_win_2       = dict(), dict()\n",
    "two_serve_back_1,        two_serve_back_2      = dict(), dict()\n",
    "break_oppotunity_pt_1,   break_oppotunity_pt_2 = dict(), dict()\n",
    "break_pt_1,              break_pt_2            = dict(), dict()\n",
    "continuous_win_1,        continuous_win_2      = dict(), dict()\n"
   ]
  },
  {
   "cell_type": "code",
   "execution_count": 7,
   "metadata": {},
   "outputs": [
    {
     "ename": "TypeError",
     "evalue": "unhashable type: 'numpy.ndarray'",
     "output_type": "error",
     "traceback": [
      "\u001b[1;31m---------------------------------------------------------------------------\u001b[0m",
      "\u001b[1;31mTypeError\u001b[0m                                 Traceback (most recent call last)",
      "\u001b[1;32mf:\\大学\\5_大三上\\其他\\美赛\\MCM-ICM\\test.ipynb 单元格 9\u001b[0m line \u001b[0;36m2\n\u001b[0;32m      <a href='vscode-notebook-cell:/f%3A/%E5%A4%A7%E5%AD%A6/5_%E5%A4%A7%E4%B8%89%E4%B8%8A/%E5%85%B6%E4%BB%96/%E7%BE%8E%E8%B5%9B/MCM-ICM/test.ipynb#X11sZmlsZQ%3D%3D?line=0'>1</a>\u001b[0m \u001b[39mfor\u001b[39;00m i \u001b[39min\u001b[39;00m \u001b[39mrange\u001b[39m(\u001b[39mlen\u001b[39m(final_match)):\n\u001b[1;32m----> <a href='vscode-notebook-cell:/f%3A/%E5%A4%A7%E5%AD%A6/5_%E5%A4%A7%E4%B8%89%E4%B8%8A/%E5%85%B6%E4%BB%96/%E7%BE%8E%E8%B5%9B/MCM-ICM/test.ipynb#X11sZmlsZQ%3D%3D?line=1'>2</a>\u001b[0m     one_serve_win_1[final_match]\n",
      "\u001b[1;31mTypeError\u001b[0m: unhashable type: 'numpy.ndarray'"
     ]
    }
   ],
   "source": [
    "for i in range(len(final_match)):\n",
    "    one_serve_win_1[final_match[i][category['point_no']]] = (0 if i == 0 else one_serve_win_1[final_match[i - 1][category['point_no']]]) + (final_match[i][category['serve_no']] == 1 and final_match[i][category['serve']] == 1 and final_match[i][category['point_victor']] == 1)\n",
    "    one_serve_back_1[final_match[i][category['point_no']]] = (0 if i == 0 else one_serve_back_1[final_match[i - 1][category['point_no']]]) + (final_match[i][category['serve_no']] == 1 and final_match[i][category['serve']] == 2 and final_match[i][category['point_victor']] == 1)\n",
    "    one_serve_success_1[final_match[i][category['point_no']]] = (0 if i == 0 else one_serve_success_1[final_match[i - 1][category['point_no']]]) + (final_match[i][category['serve_no']] == 1)\n",
    "    two_serve_win_1[final_match[i][category['point_no']]] = (0 if i == 0 else two_serve_win_1[final_match[i - 1][category['point_no']]]) + (final_match[i][category['serve_no']] == 1 and final_match[i][category['serve']] == 1 and final_match[i][category['point_victor']] == 1)\n",
    "    two_serve_back_1[final_match[i][category['point_no']]] = (0 if i == 0 else two_serve_back_1[final_match[i - 1][category['point_no']]]) + (final_match[i][category['serve_no']] == 1 and final_match[i][category['serve']] == 2 and final_match[i][category['point_victor']] == 1)\n",
    "    "
   ]
  }
 ],
 "metadata": {
  "kernelspec": {
   "display_name": "Python 3",
   "language": "python",
   "name": "python3"
  },
  "language_info": {
   "codemirror_mode": {
    "name": "ipython",
    "version": 3
   },
   "file_extension": ".py",
   "mimetype": "text/x-python",
   "name": "python",
   "nbconvert_exporter": "python",
   "pygments_lexer": "ipython3",
   "version": "3.10.2"
  }
 },
 "nbformat": 4,
 "nbformat_minor": 2
}
